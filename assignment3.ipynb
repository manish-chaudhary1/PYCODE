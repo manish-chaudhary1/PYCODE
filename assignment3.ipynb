{
 "cells": [
  {
   "cell_type": "code",
   "execution_count": 11,
   "id": "2e228f27",
   "metadata": {},
   "outputs": [],
   "source": [
    "x =  \"https://raw.githubusercontent.com/prasertcbs/basic-dataset/refs/heads/master/Country_Flags.csv\"\n",
    "import pandas as pd\n",
    "import os\n",
    "import requests\n",
    "\n",
    "links = requests.get(x)\n",
    "with open(\"Country_Flags.csv\", \"wb\") as f:\n",
    "    f.write(links.content)\n",
    "df = pd.read_csv(\"Country_Flags.csv\") \n",
    "\n",
    "dir = \"flags\"\n",
    "os.makedirs(dir, exist_ok=True)\n",
    "\n",
    "\n",
    "for i in df.iloc[:, 2]:\n",
    "    lin = requests.get(i)\n",
    "    name = os.path.basename(i)\n",
    "    with open(os.path.join(dir , name), \"wb\") as f:\n",
    "        f.write(lin.content)\n",
    "        "
   ]
  },
  {
   "cell_type": "code",
   "execution_count": null,
   "id": "62b79386",
   "metadata": {},
   "outputs": [],
   "source": [
    "import pandas as pd\n",
    "import os\n",
    "import requests\n",
    "\n",
    "y = \"https://raw.githubusercontent.com/prasertcbs/basic-dataset/refs/heads/master/Nobel%20Laureattes.csv\"\n",
    "\n",
    "# Download the CSV file\n",
    "link = requests.get(y)\n",
    "with open(\"Nobel_Laureattes.csv\", \"wb\") as f:\n",
    "    f.write(link.content)\n",
    "\n",
    "# Read the CSV file\n",
    "df2 = pd.read_csv(\"Nobel_Laureattes.csv\")\n",
    "\n",
    "# Create a folder\n",
    "dir2 = \"nobel\"\n",
    "os.makedirs(dir2, exist_ok=True)\n",
    "\n",
    "# Drop unnecessary columns\n",
    "df2 = df2.drop(df2.columns[[2, 3, 4, 5, 6, 9, 11, 12, 13, 14, 15, 16]], axis=1)\n",
    "\n",
    "# Save cleaned data\n",
    "df2.to_csv(\"Nobel_Laureattes_Cleaned.csv\", index=False)\n",
    "\n",
    "# Now read cleaned data\n",
    "df3 = pd.read_csv(\"Nobel_Laureattes_Cleaned.csv\")\n",
    "\n",
    "# Make a list of unique countries\n",
    "countries = list(df3[\"Birth Country\"].unique())\n",
    "\n",
    "# Directly make the dictionary of counts\n",
    "con = df3[\"Birth Country\"].value_counts().to_dict()\n",
    "\n",
    "# Print the dictionary\n",
    "for country, count in con.items():\n",
    "    print(f\"{country}: {count}\")\n",
    "\n"
   ]
  },
  {
   "cell_type": "code",
   "execution_count": null,
   "id": "b8a124aa",
   "metadata": {},
   "outputs": [],
   "source": []
  },
  {
   "cell_type": "code",
   "execution_count": null,
   "id": "26ff593a",
   "metadata": {},
   "outputs": [],
   "source": []
  }
 ],
 "metadata": {
  "kernelspec": {
   "display_name": "Python 3",
   "language": "python",
   "name": "python3"
  },
  "language_info": {
   "codemirror_mode": {
    "name": "ipython",
    "version": 3
   },
   "file_extension": ".py",
   "mimetype": "text/x-python",
   "name": "python",
   "nbconvert_exporter": "python",
   "pygments_lexer": "ipython3",
   "version": "3.13.2"
  }
 },
 "nbformat": 4,
 "nbformat_minor": 5
}
